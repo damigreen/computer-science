{
 "cells": [
  {
   "cell_type": "code",
   "execution_count": 2,
   "metadata": {},
   "outputs": [
    {
     "name": "stdout",
     "output_type": "stream",
     "text": [
      "Hello Python!\n"
     ]
    }
   ],
   "source": [
    "print(\"Hello Python!\")"
   ]
  },
  {
   "cell_type": "code",
   "execution_count": 1,
   "metadata": {},
   "outputs": [
    {
     "name": "stdout",
     "output_type": "stream",
     "text": [
      "Hello Why\n"
     ]
    }
   ],
   "source": [
    "print(\"Hello Why\")"
   ]
  },
  {
   "cell_type": "code",
   "execution_count": 35,
   "metadata": {},
   "outputs": [
    {
     "name": "stdout",
     "output_type": "stream",
     "text": [
      "Counter({'e': 2, 'd': 1, 'a': 1, 'm': 1, 'i': 1, 'g': 1, 'r': 1, 'n': 1})\n",
      "Counter({'green': 4, 'red': 3})\n",
      "Counter({'black': 12, 'orange': 9, 'brown': 6, 'green': 4, 'red': 3})\n",
      "Counter({'orange': 9, 'brown': 6, 'green': 4, 'red': 3})\n"
     ]
    }
   ],
   "source": [
    "# Python Counter\n",
    "\n",
    "from collections import Counter\n",
    "c = Counter()\n",
    "c = Counter(\"damigreen\")\n",
    "print(c)\n",
    "c = Counter({ 'green': 4, 'red': 3 })\n",
    "print(c)\n",
    "c['black'] = 12\n",
    "c['orange'] = 9\n",
    "c['brown'] = 6\n",
    "print(c)\n",
    "del c['black']\n",
    "print(c)"
   ]
  },
  {
   "cell_type": "code",
   "execution_count": 43,
   "metadata": {},
   "outputs": [
    {
     "name": "stdout",
     "output_type": "stream",
     "text": [
      "1\n",
      "3\n",
      "4\n",
      "6\n"
     ]
    }
   ],
   "source": [
    "c = Counter()\n",
    "for a, b, k in queries:\n",
    "    c[a] += k\n",
    "    c[b+1] -= k\n",
    "    \n",
    "for i in sorted(c)[:-1]:\n",
    "    print(i)"
   ]
  },
  {
   "cell_type": "code",
   "execution_count": null,
   "metadata": {},
   "outputs": [
    {
     "name": "stdout",
     "output_type": "stream",
     "text": [
      "6 9 1\n",
      "Counter({4: 7, 1: 3, 10: -1, 6: -2, 9: -7})\n",
      "10\n"
     ]
    }
   ],
   "source": [
    "def arrayManipulation(n, queries):\n",
    "    c = Counter()\n",
    "    for a, b, k in queries:\n",
    "        c[a] += k\n",
    "        c[b+1] -= k\n",
    "\n",
    "    print(a, b, k)\n",
    "    print(c)\n",
    "\n",
    "    arrSum = 0\n",
    "    maxSum = 0\n",
    "    for i in sorted(c)[:-1]:\n",
    "        arrSum += c[i]\n",
    "        maxSum = max(maxSum, arrSum)\n",
    "\n",
    "    return maxSum\n",
    "\n",
    "\n",
    "# n,m = map(int, input().split())\n",
    "# queries = [list(map(int, input().split())) for _ in range(m)]\n",
    "# print (queries)\n",
    "# print(arrayManipulation(n, queries))\n",
    "n1 = 10\n",
    "queries1 = [[1, 5, 3], [4, 8, 7], [6, 9, 1]]\n",
    "print(arrayManipulation(n1, queries1))\n"
   ]
  },
  {
   "cell_type": "code",
   "execution_count": 12,
   "metadata": {},
   "outputs": [
    {
     "name": "stdout",
     "output_type": "stream",
     "text": [
      "10\n"
     ]
    }
   ],
   "source": [
    "def arrayManipulationIndex(n, queries):\n",
    "    arr = [0] * (n + 2)\n",
    "    for a, b, k in queries:\n",
    "        arr[a] += k\n",
    "        arr[b+1] -= k\n",
    "\n",
    "    arrSum = 0\n",
    "    maxSum = 0\n",
    "    for val in arr:\n",
    "        arrSum += val\n",
    "        maxSum = max(maxSum, arrSum)\n",
    "\n",
    "    return maxSum\n",
    "\n",
    "\n",
    "# n,m = map(int, input().split())\n",
    "# queries = [list(map(int, input().split())) for _ in range(m)]\n",
    "# print (queries)\n",
    "# print(arrayManipulation(n, queries))\n",
    "n1 = 10\n",
    "queries1 = [[1, 5, 3], [4, 8, 7], [6, 9, 1]]\n",
    "print(arrayManipulationIndex(n1, queries1))\n"
   ]
  },
  {
   "cell_type": "code",
   "execution_count": 18,
   "metadata": {},
   "outputs": [
    {
     "name": "stdout",
     "output_type": "stream",
     "text": [
      "None\n"
     ]
    }
   ],
   "source": [
    "class SinglyLinkedListNode:\n",
    "    def __init__(self, node_data):\n",
    "        self.data = node_data\n",
    "        self.next = None\n",
    "\n",
    "\n",
    "class SinglyLinkedList:\n",
    "    def __init__(self):\n",
    "        self.head = None\n",
    "        self.tail = None\n",
    "\n",
    "    def insert_node(self, node_data):\n",
    "        node = SinglyLinkedListNode(node_data)\n",
    "\n",
    "        if not self.head:\n",
    "            self.head = node\n",
    "        else:\n",
    "            self.tail.next = node\n",
    "\n",
    "        self.tail = node\n",
    "\n",
    "sllA = SinglyLinkedList()\n",
    "sllB = SinglyLinkedList()\n",
    "# sllA.insert_node(4)\n",
    "# sllB.insert_node(4)\n",
    "# sllA.insert_node(9)\n",
    "# sllB.insert_node(9)\n",
    "# sllA.insert_node(7)\n",
    "# sllB.insert_node(7)\n",
    "# sllA.insert_node(8)\n",
    "# sllA.insert_node(1)\n",
    "# sllB.insert_node(5)\n",
    "# sllA.insert_node(12)\n",
    "# sllB.insert_node(10)\n",
    "\n",
    "# sllA.insert_node(3)\n",
    "# sllB.insert_node(3)\n",
    "# sllA.insert_node(2)\n",
    "# sllB.insert_node(2)\n",
    "# sllA.insert_node(7)\n",
    "# sllB.insert_node(7)\n",
    "\n",
    "sllA.insert_node(3)\n",
    "sllB.insert_node(1)\n",
    "sllA.insert_node(2)\n",
    "sllA.insert_node(1)\n",
    "\n",
    "\n",
    "def findMergeNode(headA, headB):\n",
    "\n",
    "    while headA:\n",
    "        node = headB\n",
    "        while node:\n",
    "            if headA == node:\n",
    "                return headA.data\n",
    "            node = node.next\n",
    "        headA = headA.next\n",
    "\n",
    "find_merge_node = findMergeNode(sllA.head, sllB.head)\n",
    "print(find_merge_node)\n"
   ]
  }
 ],
 "metadata": {
  "interpreter": {
   "hash": "e3a71179d99c89e927251cb93a4ff55fe2706b8adf4b2e38e235dec6c81c84b9"
  },
  "kernelspec": {
   "display_name": "Python 3.9.7 64-bit (windows store)",
   "name": "python3"
  },
  "language_info": {
   "codemirror_mode": {
    "name": "ipython",
    "version": 3
   },
   "file_extension": ".py",
   "mimetype": "text/x-python",
   "name": "python",
   "nbconvert_exporter": "python",
   "pygments_lexer": "ipython3",
   "version": "3.9.6"
  },
  "orig_nbformat": 4
 },
 "nbformat": 4,
 "nbformat_minor": 2
}
